{
 "cells": [
  {
   "cell_type": "code",
   "execution_count": 2,
   "id": "ed8bd3a3",
   "metadata": {},
   "outputs": [],
   "source": [
    "# importing the libraries\n",
    "import graphviz\n",
    "import snakes.plugins\n",
    "snakes.plugins.load('gv', 'snakes.nets', 'nets')\n",
    "from nets import *"
   ]
  },
  {
   "cell_type": "code",
   "execution_count": 3,
   "id": "9ea1665e",
   "metadata": {},
   "outputs": [],
   "source": [
    "# functions for creating the network\n",
    "def factory (cons, prod, init = [1, 2, 3]):\n",
    "    n = PetriNet('N')\n",
    "    n.add_place(Place('src', init))\n",
    "    n.add_place(Place('tgt', []))\n",
    "    t = Transition('t')\n",
    "    n.add_transition(t)\n",
    "    n.add_input('src', 't', cons)\n",
    "    n.add_output('tgt', 't', prod)\n",
    "    return n, t, t.modes()"
   ]
  },
  {
   "cell_type": "code",
   "execution_count": 10,
   "id": "30706f6d",
   "metadata": {},
   "outputs": [
    {
     "data": {
      "text/plain": [
       "Graph(['node_2', 'node_1', 'node_0'], [])"
      ]
     },
     "execution_count": 10,
     "metadata": {},
     "output_type": "execute_result"
    }
   ],
   "source": [
    "# Calling the function and firing the transition using Values\n",
    "net, trans, modes = factory(Value(2), Value(0))\n",
    "net.draw('value-0.gv')\n",
    "trans.fire(modes[0])\n",
    "net.draw('value-1.png')"
   ]
  },
  {
   "cell_type": "code",
   "execution_count": 14,
   "id": "a79f80a1",
   "metadata": {},
   "outputs": [
    {
     "data": {
      "text/plain": [
       "Graph(['node_2', 'node_1', 'node_0'], [])"
      ]
     },
     "execution_count": 14,
     "metadata": {},
     "output_type": "execute_result"
    }
   ],
   "source": [
    "# Calling the function and firing the transition using Variables\n",
    "net, trans, modes = factory(Variable('x'), Variable('x'))\n",
    "net.draw('value-0.gv')\n",
    "trans.fire(modes[0])\n",
    "trans.fire(modes[1])\n",
    "net.draw('value-1.png')"
   ]
  },
  {
   "cell_type": "code",
   "execution_count": 23,
   "id": "f45ab59b",
   "metadata": {},
   "outputs": [
    {
     "name": "stdout",
     "output_type": "stream",
     "text": [
      "[Substitution(x=1, y=2), Substitution(x=1, y=3), Substitution(x=2, y=1), Substitution(x=2, y=3), Substitution(x=3, y=1), Substitution(x=3, y=2)]\n"
     ]
    },
    {
     "data": {
      "text/plain": [
       "Graph(['node_2', 'node_1', 'node_0'], [])"
      ]
     },
     "execution_count": 23,
     "metadata": {},
     "output_type": "execute_result"
    }
   ],
   "source": [
    "net, trans, modes = factory(\n",
    "    MultiArc([Variable(\"x\"), Variable(\"y\")]),\n",
    "    MultiArc([Expression(\"x+y\"), Value(0), Expression(\"x<y\")])\n",
    ")\n",
    "net.draw(\"multiarc-0.png\")\n",
    "print(modes)\n",
    "trans.fire(modes[0])\n",
    "net.draw(\"multiarc-1.png\")"
   ]
  },
  {
   "cell_type": "code",
   "execution_count": 24,
   "id": "55afa533",
   "metadata": {},
   "outputs": [
    {
     "name": "stdout",
     "output_type": "stream",
     "text": [
      "[Substitution(x=0, y=1), Substitution(x=1, y=2), Substitution(x=2, y=3)]\n"
     ]
    },
    {
     "data": {
      "text/plain": [
       "Graph(['node_2', 'node_1', 'node_0'], [])"
      ]
     },
     "execution_count": 24,
     "metadata": {},
     "output_type": "execute_result"
    }
   ],
   "source": [
    "net, trans, modes = factory(\n",
    "    Tuple([Variable(\"x\"), Variable(\"y\")]),\n",
    "    Tuple([Expression(\"x+y\"), Value(0), Expression(\"x<y\")]),\n",
    "    [(0,1), (1,2), (2,3)]\n",
    ")\n",
    "net.draw(\"tuple-0.png\")\n",
    "print(modes)\n",
    "trans.fire(modes[1])\n",
    "net.draw(\"tuple-1.png\")"
   ]
  },
  {
   "cell_type": "code",
   "execution_count": 26,
   "id": "08ceb912",
   "metadata": {},
   "outputs": [
    {
     "ename": "NameError",
     "evalue": "name 'variable' is not defined",
     "output_type": "error",
     "traceback": [
      "\u001b[1;31m---------------------------------------------------------------------------\u001b[0m",
      "\u001b[1;31mNameError\u001b[0m                                 Traceback (most recent call last)",
      "\u001b[1;32m<ipython-input-26-8eeecb13e6da>\u001b[0m in \u001b[0;36m<module>\u001b[1;34m\u001b[0m\n\u001b[0;32m     14\u001b[0m \u001b[0mnet\u001b[0m\u001b[1;33m.\u001b[0m\u001b[0madd_place\u001b[0m\u001b[1;33m(\u001b[0m\u001b[0mPlace\u001b[0m\u001b[1;33m(\u001b[0m\u001b[1;34m'output'\u001b[0m\u001b[1;33m)\u001b[0m\u001b[1;33m)\u001b[0m\u001b[1;33m\u001b[0m\u001b[1;33m\u001b[0m\u001b[0m\n\u001b[0;32m     15\u001b[0m \u001b[0mnet\u001b[0m\u001b[1;33m.\u001b[0m\u001b[0madd_transition\u001b[0m\u001b[1;33m(\u001b[0m\u001b[0mTransition\u001b[0m\u001b[1;33m(\u001b[0m\u001b[1;34m't'\u001b[0m\u001b[1;33m,\u001b[0m \u001b[0mExpression\u001b[0m\u001b[1;33m(\u001b[0m\u001b[1;34m'not x.done()'\u001b[0m\u001b[1;33m)\u001b[0m\u001b[1;33m)\u001b[0m\u001b[1;33m)\u001b[0m\u001b[1;33m\u001b[0m\u001b[1;33m\u001b[0m\u001b[0m\n\u001b[1;32m---> 16\u001b[1;33m \u001b[0mnet\u001b[0m\u001b[1;33m.\u001b[0m\u001b[0madd_input\u001b[0m\u001b[1;33m(\u001b[0m\u001b[1;34m'input'\u001b[0m\u001b[1;33m,\u001b[0m \u001b[1;34m't'\u001b[0m\u001b[1;33m,\u001b[0m \u001b[0mvariable\u001b[0m\u001b[1;33m(\u001b[0m\u001b[1;34m'x'\u001b[0m\u001b[1;33m)\u001b[0m\u001b[1;33m)\u001b[0m\u001b[1;33m\u001b[0m\u001b[1;33m\u001b[0m\u001b[0m\n\u001b[0m\u001b[0;32m     17\u001b[0m \u001b[0mnet\u001b[0m\u001b[1;33m.\u001b[0m\u001b[0madd_output\u001b[0m\u001b[1;33m(\u001b[0m\u001b[1;34m'output'\u001b[0m\u001b[1;33m,\u001b[0m \u001b[1;34m't'\u001b[0m\u001b[1;33m,\u001b[0m \u001b[0mExpression\u001b[0m\u001b[1;33m(\u001b[0m\u001b[1;34m'x.next()'\u001b[0m\u001b[1;33m)\u001b[0m\u001b[1;33m)\u001b[0m\u001b[1;33m\u001b[0m\u001b[1;33m\u001b[0m\u001b[0m\n\u001b[0;32m     18\u001b[0m \u001b[0mnet\u001b[0m\u001b[1;33m.\u001b[0m\u001b[0mplace\u001b[0m\u001b[1;33m(\u001b[0m\u001b[1;34m'input'\u001b[0m\u001b[1;33m)\u001b[0m\u001b[1;33m.\u001b[0m\u001b[0madd\u001b[0m\u001b[1;33m(\u001b[0m\u001b[0mqueue\u001b[0m\u001b[1;33m(\u001b[0m\u001b[0mrange\u001b[0m\u001b[1;33m(\u001b[0m\u001b[1;36m10\u001b[0m\u001b[1;33m)\u001b[0m\u001b[1;33m)\u001b[0m\u001b[1;33m)\u001b[0m\u001b[1;33m\u001b[0m\u001b[1;33m\u001b[0m\u001b[0m\n",
      "\u001b[1;31mNameError\u001b[0m: name 'variable' is not defined"
     ]
    }
   ],
   "source": [
    "class queue(object):\n",
    "    def __init__(self, values):\n",
    "        self.v = list(values)\n",
    "    def done(self):\n",
    "        return not self.v\n",
    "    def next(self):\n",
    "        return self.v.pop(0)\n",
    "    def __str__(self):\n",
    "        return \"Queue (%r)\" % self.v\n",
    "    def __repr__(self):\n",
    "        return \"Queue (%r)\" % self.v\n",
    "net = PetriNet('bad')\n",
    "net.add_place(Place('input'))\n",
    "net.add_place(Place('output'))\n",
    "net.add_transition(Transition('t', Expression('not x.done()')))\n",
    "net.add_input('input', 't', Variable('x'))\n",
    "net.add_output('output', 't', Expression('x.next()'))\n",
    "net.place('input').add(queue(range(10)))\n"
   ]
  }
 ],
 "metadata": {
  "kernelspec": {
   "display_name": "Python 3",
   "language": "python",
   "name": "python3"
  },
  "language_info": {
   "codemirror_mode": {
    "name": "ipython",
    "version": 3
   },
   "file_extension": ".py",
   "mimetype": "text/x-python",
   "name": "python",
   "nbconvert_exporter": "python",
   "pygments_lexer": "ipython3",
   "version": "3.8.11"
  }
 },
 "nbformat": 4,
 "nbformat_minor": 5
}
